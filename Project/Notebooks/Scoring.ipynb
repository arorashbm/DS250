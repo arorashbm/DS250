{
 "cells": [
  {
   "cell_type": "code",
   "execution_count": 1,
   "metadata": {},
   "outputs": [],
   "source": [
    "import pandas as pd\n",
    "import numpy as np\n",
    "import scipy.stats as ss"
   ]
  },
  {
   "cell_type": "code",
   "execution_count": 2,
   "metadata": {},
   "outputs": [
    {
     "name": "stderr",
     "output_type": "stream",
     "text": [
      "E:\\Anaconda\\lib\\site-packages\\IPython\\core\\interactiveshell.py:3057: DtypeWarning: Columns (17) have mixed types. Specify dtype option on import or set low_memory=False.\n",
      "  interactivity=interactivity, compiler=compiler, result=result)\n"
     ]
    }
   ],
   "source": [
    "data = pd.read_csv('clean5.csv')"
   ]
  },
  {
   "cell_type": "code",
   "execution_count": 3,
   "metadata": {
    "scrolled": false
   },
   "outputs": [
    {
     "name": "stdout",
     "output_type": "stream",
     "text": [
      "Unnamed: 0\n",
      "Unnamed: 0.1\n",
      "Unnamed: 0.1.1\n",
      "Unnamed: 0.1.1.1\n",
      "district\n",
      "rural\n",
      "stratum_code\n",
      "age\n",
      "marital_status\n",
      "delivered_any_baby\n",
      "born_alive_female\n",
      "born_alive_male\n",
      "born_alive_total\n",
      "surviving_female\n",
      "surviving_male\n",
      "surviving_total\n",
      "mother_age_when_baby_was_born\n",
      "outcome_pregnancy\n",
      "is_tubectomy\n",
      "is_vasectomy\n",
      "is_copper_t\n",
      "is_pills_daily\n",
      "is_piils_weekly\n",
      "is_emergency_contraceptive\n",
      "is_condom\n",
      "is_moder_methods\n",
      "is_contraceptive\n",
      "is_periodic_abstinence\n",
      "is_withdrawal\n",
      "is_amenorrahoea\n",
      "is_other_traditional_method\n",
      "is_currently_pregnant\n",
      "pregnant_month\n",
      "is_anc_registered\n",
      "willing_to_get_pregnant\n",
      "is_currently_menstruating\n",
      "when_you_bcome_mother_last_time\n",
      "is_any_fp_methos_used\n",
      "fp_method_used\n",
      "source_of_treatment_for_fp\n",
      "how_long_using_this_method\n",
      "method_obtain_last_time\n",
      "reason_for_not_using_fp_method\n",
      "is_method_used_in_last_5_yrs\n",
      "method_type_used_in_last_5_yrs\n",
      "reason_for_discontinuation\n",
      "intend_to_use_fp_method_in_futur\n",
      "when_method_is_going_to_use\n",
      "which_method_going_to_pefer_for_\n",
      "want_more_childern\n",
      "next_child_preference\n",
      "time_for_next_child\n",
      "anm_in_last_3_months\n",
      "aware_abt_rti\n",
      "aware_abt_hiv\n",
      "aware_of_the_danger_signs\n",
      "year_of_birth\n",
      "religion\n",
      "social_group_code\n",
      "year_of_marriage\n",
      "highest_qualification\n",
      "occupation_status\n",
      "disability_status\n",
      "injury_treatment_type\n",
      "illness_type\n",
      "diagnosed_for\n",
      "chew\n",
      "smoke\n",
      "alcohol\n",
      "house_status\n",
      "house_structure\n",
      "owner_status\n",
      "drinking_water_source\n",
      "is_water_filter\n",
      "toilet_used\n",
      "household_have_electricity\n",
      "lighting_source\n",
      "cooking_fuel\n",
      "kitchen_availability\n",
      "is_radio\n",
      "is_television\n",
      "is_computer\n",
      "is_telephone\n",
      "is_washing_machine\n",
      "is_refrigerator\n",
      "is_sewing_machine\n",
      "is_bicycle\n",
      "is_scooter\n",
      "is_car\n",
      "is_tractor\n",
      "is_water_pump\n",
      "cart\n",
      "land_possessed\n",
      "ever_conceived\n",
      "no_of_times_conceived\n",
      "age_at_first_conception\n",
      "is_injectable_contraceptive\n",
      "health_prob_afters_fp_use\n",
      "counselled_for_menstrual_hyg\n",
      "aware_abt_haf\n",
      "aware_abt_ort_ors\n",
      "aware_abt_ort_ors_zinc\n",
      "aware_abt_danger_signs_new_born\n",
      "iscoveredbyhealthscheme\n",
      "chew_updated\n",
      "under age conception\n",
      "age_at_time_of_marriage\n"
     ]
    }
   ],
   "source": [
    "for col in data.columns:\n",
    "    print(col)"
   ]
  },
  {
   "cell_type": "code",
   "execution_count": 4,
   "metadata": {},
   "outputs": [],
   "source": [
    "def cramers_corrected_stat(confusion_matrix):\n",
    "    \"\"\" calculate Cramers V statistic for categorial-categorial association.\n",
    "        uses correction from Bergsma and Wicher, \n",
    "        Journal of the Korean Statistical Society 42 (2013): 323-328\n",
    "    \"\"\"\n",
    "    chi2 = ss.chi2_contingency(confusion_matrix)[0]\n",
    "    n = confusion_matrix.sum().sum()\n",
    "    phi2 = chi2/n\n",
    "    r,k = confusion_matrix.shape\n",
    "    phi2corr = max(0, phi2 - ((k-1)*(r-1))/(n-1))    \n",
    "    rcorr = r - ((r-1)**2)/(n-1)\n",
    "    kcorr = k - ((k-1)**2)/(n-1)\n",
    "    return np.sqrt(phi2corr / min( (kcorr-1), (rcorr-1)))"
   ]
  },
  {
   "cell_type": "code",
   "execution_count": 5,
   "metadata": {},
   "outputs": [
    {
     "data": {
      "text/plain": [
       "array([2, 1, 3], dtype=int64)"
      ]
     },
     "execution_count": 5,
     "metadata": {},
     "output_type": "execute_result"
    }
   ],
   "source": [
    "data[\"iscoveredbyhealthscheme\"].unique()"
   ]
  },
  {
   "cell_type": "code",
   "execution_count": 6,
   "metadata": {},
   "outputs": [],
   "source": [
    "data[\"born_alive_total_bin\"] = data[\"born_alive_total\"]\n",
    "data[\"born_alive_total_bin\"] = np.where(data.born_alive_total_bin < 4, 1, data.born_alive_total_bin)\n",
    "data[\"born_alive_total_bin\"] = np.where(data.born_alive_total_bin >= 4, 0, data.born_alive_total_bin)"
   ]
  },
  {
   "cell_type": "code",
   "execution_count": 7,
   "metadata": {},
   "outputs": [],
   "source": [
    "data[\"age_at_time_of_marriage\"] = np.where(data.age_at_time_of_marriage < 0, -1, data.age_at_time_of_marriage)\n",
    "data[\"age_at_time_of_marriage\"] = np.where(data.age_at_time_of_marriage > 1900, -1, data.age_at_time_of_marriage)\n",
    "data[\"under_age_marriage\"] = data[\"age_at_time_of_marriage\"]\n",
    "data[\"under_age_marriage\"] = np.where(((data.under_age_marriage >= 0) & (data.under_age_marriage < 18)), 0, data.under_age_marriage)\n",
    "data[\"under_age_marriage\"] = np.where(data.under_age_marriage >= 18, 1, data.under_age_marriage)"
   ]
  },
  {
   "cell_type": "code",
   "execution_count": 8,
   "metadata": {},
   "outputs": [],
   "source": [
    "data[\"mother_age_when_baby_was_born_bin\"] = data[\"mother_age_when_baby_was_born\"]\n",
    "data[\"mother_age_when_baby_was_born_bin\"] = np.where(((data.mother_age_when_baby_was_born_bin >= 0) & (data.mother_age_when_baby_was_born_bin < 20)), 0, data.mother_age_when_baby_was_born_bin)\n",
    "data[\"mother_age_when_baby_was_born_bin\"] = np.where(data.mother_age_when_baby_was_born_bin > 40, 0, data.mother_age_when_baby_was_born_bin)\n",
    "data[\"mother_age_when_baby_was_born_bin\"] = np.where(((data.mother_age_when_baby_was_born_bin >= 20) & (data.mother_age_when_baby_was_born_bin <= 40)), 1, data.mother_age_when_baby_was_born_bin)"
   ]
  },
  {
   "cell_type": "code",
   "execution_count": 9,
   "metadata": {},
   "outputs": [],
   "source": [
    "is_list = [\"is_tubectomy\", \"is_vasectomy\", \"is_copper_t\", \"is_pills_daily\", \"is_piils_weekly\", \"is_emergency_contraceptive\", \"is_condom\", \"is_moder_methods\", \"is_contraceptive\", \"is_periodic_abstinence\", \"is_withdrawal\", \"is_amenorrahoea\", \"is_other_traditional_method\"]\n",
    "for col in is_list:\n",
    "    data[col] = data[col].replace([2], 0)"
   ]
  },
  {
   "cell_type": "code",
   "execution_count": 10,
   "metadata": {},
   "outputs": [],
   "source": [
    "data[\"is_any_fp_methos_used\"] = data[\"is_any_fp_methos_used\"].replace([2, 3], 0)"
   ]
  },
  {
   "cell_type": "code",
   "execution_count": 11,
   "metadata": {},
   "outputs": [],
   "source": [
    "aware_cols = [\"aware_abt_danger_signs_new_born\", \"aware_abt_haf\", \"aware_abt_hiv\", \"aware_abt_ort_ors\", \"aware_abt_ort_ors_zinc\", \"aware_abt_rti\", \"aware_of_the_danger_signs\"]\n",
    "for col in aware_cols:\n",
    "    data[col] = data[col].replace(['Aware'], 1)\n",
    "    data[col] = data[col].replace(['Not Aware'], 0)"
   ]
  },
  {
   "cell_type": "code",
   "execution_count": 12,
   "metadata": {},
   "outputs": [],
   "source": [
    "data[\"chew\"] = data[\"chew\"].replace([0, 7, 8], -1)\n",
    "data[\"chew\"] = data[\"chew\"].replace([1, 2, 3, 4, 5, 6], 0)\n",
    "data[\"chew\"] = data[\"chew\"].replace([-1], 1)\n",
    "data[\"smoke\"] = data[\"smoke\"].replace([0, 4, 5], -1)\n",
    "data[\"smoke\"] = data[\"smoke\"].replace([1, 2, 3], 0)\n",
    "data[\"smoke\"] = data[\"smoke\"].replace([-1], 1)\n",
    "data[\"alcohol\"] = data[\"alcohol\"].replace([0, 4, 5], -1)\n",
    "data[\"alcohol\"] = data[\"alcohol\"].replace([1, 2, 3], 0)\n",
    "data[\"alcohol\"] = data[\"alcohol\"].replace([-1], 1)"
   ]
  },
  {
   "cell_type": "code",
   "execution_count": 13,
   "metadata": {},
   "outputs": [],
   "source": [
    "data[\"is_injectable_contraceptive\"] = data[\"is_injectable_contraceptive\"].replace([2], 0)"
   ]
  },
  {
   "cell_type": "code",
   "execution_count": 14,
   "metadata": {},
   "outputs": [],
   "source": [
    "data[\"no_of_times_conceived\"] = np.where(data.no_of_times_conceived < 0, -1, data.no_of_times_conceived)\n",
    "data[\"no_of_times_conceived\"] = np.where(((data.no_of_times_conceived >= 0) & (data.no_of_times_conceived <= 4)), 1, data.no_of_times_conceived)\n",
    "data[\"no_of_times_conceived\"] = np.where(data.no_of_times_conceived > 4, 0, data.no_of_times_conceived)"
   ]
  },
  {
   "cell_type": "code",
   "execution_count": 15,
   "metadata": {},
   "outputs": [],
   "source": [
    "data[\"age_at_first_conception_bin\"] = data[\"age_at_first_conception\"]\n",
    "data[\"age_at_first_conception_bin\"] = np.where(((data.age_at_first_conception_bin >= 0) & (data.age_at_first_conception_bin < 20)), 0, data.age_at_first_conception_bin)\n",
    "data[\"age_at_first_conception_bin\"] = np.where(data.age_at_first_conception_bin > 40, 0, data.age_at_first_conception_bin)\n",
    "data[\"age_at_first_conception_bin\"] = np.where(((data.age_at_first_conception_bin >= 20) & (data.age_at_first_conception_bin <= 40)), 1, data.age_at_first_conception_bin)"
   ]
  },
  {
   "cell_type": "code",
   "execution_count": 16,
   "metadata": {},
   "outputs": [],
   "source": [
    "data[\"iscoveredbyhealthscheme\"] = data[\"iscoveredbyhealthscheme\"].replace([2, 3], 0)"
   ]
  },
  {
   "cell_type": "code",
   "execution_count": 17,
   "metadata": {},
   "outputs": [],
   "source": [
    "cols_for_score = [\"district\", \"rural\", \"born_alive_total_bin\", \"under_age_marriage\", \"mother_age_when_baby_was_born_bin\", \"is_tubectomy\", \"is_vasectomy\", \"is_copper_t\", \"is_pills_daily\", \"is_piils_weekly\", \"is_emergency_contraceptive\", \"is_condom\", \"is_moder_methods\", \"is_contraceptive\", \"is_periodic_abstinence\", \"is_withdrawal\", \"is_amenorrahoea\", \"is_other_traditional_method\", \"is_any_fp_methos_used\", \"aware_abt_danger_signs_new_born\", \"aware_abt_haf\", \"aware_abt_hiv\", \"aware_abt_ort_ors\", \"aware_abt_ort_ors_zinc\", \"aware_abt_rti\", \"aware_of_the_danger_signs\", \"chew\", \"smoke\", \"alcohol\", \"is_injectable_contraceptive\", \"no_of_times_conceived\", \"age_at_first_conception_bin\", \"iscoveredbyhealthscheme\"]"
   ]
  },
  {
   "cell_type": "code",
   "execution_count": 18,
   "metadata": {},
   "outputs": [],
   "source": [
    "data_score = data[cols_for_score]"
   ]
  },
  {
   "cell_type": "code",
   "execution_count": 19,
   "metadata": {},
   "outputs": [],
   "source": [
    "population = [1890422, 687271, 1696694, 330086, 618931, 954605, 242285, 483439, 259648, 622506, 391605, 259898, 1648902]\n",
    "rural = []\n",
    "urban = []"
   ]
  },
  {
   "cell_type": "code",
   "execution_count": 20,
   "metadata": {},
   "outputs": [
    {
     "name": "stdout",
     "output_type": "stream",
     "text": [
      "11789\n",
      "11203\n",
      "72624\n",
      "3974\n",
      "12254\n",
      "18430\n",
      "377\n",
      "11522\n",
      "2351\n",
      "4731\n",
      "13440\n",
      "1955\n",
      "13363\n"
     ]
    }
   ],
   "source": [
    "for d in data[\"district\"].unique():\n",
    "    print(sum(data[data[\"district\"]==d][\"rural\"]==\"Urban\"))"
   ]
  },
  {
   "cell_type": "code",
   "execution_count": 21,
   "metadata": {},
   "outputs": [],
   "source": [
    "rural_margin = [0.0095, 0.0035, 0.0048, 0.0067, 0.0036, 0.0069, 0.0032, 0.0053, 0.0105, 0.0048, 0.0040, 0.0041, 0.0070]\n",
    "urban_margin = [0.0117, 0.0118, 0.0044, 0.0200, 0.0113, 0.0092, 0.0667, 0.0115, 0.0262, 0.0185, 0.0105, 0.0288, 0.0110]"
   ]
  },
  {
   "cell_type": "code",
   "execution_count": 22,
   "metadata": {},
   "outputs": [],
   "source": [
    "import math\n",
    "for p in population:\n",
    "    r = math.floor(p*0.6884)\n",
    "    u = p-r\n",
    "    rural.append(r)\n",
    "    urban.append(u)"
   ]
  },
  {
   "cell_type": "code",
   "execution_count": 23,
   "metadata": {},
   "outputs": [],
   "source": [
    "score = []"
   ]
  },
  {
   "cell_type": "code",
   "execution_count": 24,
   "metadata": {},
   "outputs": [],
   "source": [
    "for d in data[\"district\"].unique():\n",
    "    data_d = data_score[data_score[\"district\"]==d]\n",
    "    score_d = []\n",
    "    for i in range(2, len(cols_for_score)):\n",
    "        confusion_matrix = pd.crosstab(data[\"rural\"], data_d[cols_for_score[i]])\n",
    "        score_c = []\n",
    "        for r in data[\"rural\"].unique():\n",
    "            score_v = confusion_matrix[0].loc[r]/sum(confusion_matrix[0])\n",
    "            score_c.append(score_v)\n",
    "        score_d.append(score_c)\n",
    "    score.append(score_d)"
   ]
  },
  {
   "cell_type": "code",
   "execution_count": 25,
   "metadata": {
    "scrolled": true
   },
   "outputs": [],
   "source": [
    "score_updated = []\n",
    "i = 0\n",
    "for s in score:\n",
    "    rural_score = 0\n",
    "    urban_score = 0\n",
    "    for l in s:\n",
    "        rural_score += l[0]\n",
    "        urban_score += l[1]\n",
    "    score_updated.append([min(rural_score/len(s)+rural_margin[i], 1), min(urban_score/len(s)+urban_margin[i], 1)])"
   ]
  },
  {
   "cell_type": "code",
   "execution_count": 26,
   "metadata": {},
   "outputs": [],
   "source": [
    "population_req = []\n",
    "for i in range(len(score_updated)):\n",
    "    population_req.append([math.ceil(score_updated[i][0]*rural[i]), math.ceil(score_updated[i][1]*urban[i])])"
   ]
  },
  {
   "cell_type": "code",
   "execution_count": 27,
   "metadata": {},
   "outputs": [
    {
     "data": {
      "text/plain": [
       "[[937052, 177393],\n",
       " [442564, 18371],\n",
       " [642140, 249238],\n",
       " [213025, 8612],\n",
       " [402061, 14958],\n",
       " [443767, 102893],\n",
       " [166788, 1127],\n",
       " [295674, 19999],\n",
       " [156540, 11765],\n",
       " [411046, 12028],\n",
       " [244318, 14023],\n",
       " [177087, 2544],\n",
       " [852063, 139010]]"
      ]
     },
     "execution_count": 27,
     "metadata": {},
     "output_type": "execute_result"
    }
   ],
   "source": [
    "population_req"
   ]
  }
 ],
 "metadata": {
  "kernelspec": {
   "display_name": "Python 3",
   "language": "python",
   "name": "python3"
  },
  "language_info": {
   "codemirror_mode": {
    "name": "ipython",
    "version": 3
   },
   "file_extension": ".py",
   "mimetype": "text/x-python",
   "name": "python",
   "nbconvert_exporter": "python",
   "pygments_lexer": "ipython3",
   "version": "3.7.3"
  }
 },
 "nbformat": 4,
 "nbformat_minor": 2
}
